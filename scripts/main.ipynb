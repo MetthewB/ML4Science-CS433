{
 "cells": [
  {
   "cell_type": "code",
   "execution_count": null,
   "metadata": {},
   "outputs": [
    {
     "name": "stderr",
     "output_type": "stream",
     "text": [
      "3it [00:01,  1.87it/s]                       "
     ]
    },
    {
     "name": "stdout",
     "output_type": "stream",
     "text": [
      "\n",
      "Average Results Across All Images and Channels (Median Filter):\n",
      "  FilterType Channel  Average PSNR  Average SSIM\n",
      "0     Median       0     25.167239      0.544371\n",
      "1     Median       1     24.339144      0.494398\n",
      "2     Median       2     21.521500      0.318417\n"
     ]
    },
    {
     "name": "stderr",
     "output_type": "stream",
     "text": [
      "\n"
     ]
    }
   ],
   "source": [
    "import os\n",
    "import pandas as pd\n",
    "\n",
    "from functions import *\n",
    "\n",
    "# Get the paths for output and data\n",
    "data_path, output_path = get_paths()\n",
    "\n",
    "# Select the filter function and parameters based on the chosen filter\n",
    "filter_name = \"Gaussian\" \n",
    "filter_fn, filter_params = select_filter(filter_name)\n",
    "\n",
    "if __name__ == \"__main__\":\n",
    "    # Process images and get results using the selected filter function\n",
    "    filter_results = process_images(data_path, num_images=2, filter_fn=filter_fn, **filter_params)\n",
    "\n",
    "    # Save the results as a CSV file\n",
    "    save_results(filter_results, output_path, filter_name=filter_name)\n",
    "\n",
    "    # Compute the average PSNR and SSIM for the selected filter\n",
    "    filter_df = pd.DataFrame(filter_results, columns=['ImageIndex', 'Channel', 'PSNR', 'SSIM'])\n",
    "    avg_results = compute_averages(filter_df, filter_name=filter_name)\n",
    "\n",
    "    # Display the average results\n",
    "    print(f\"\\nAverage Results Across All Images and Channels ({filter_name} Filter):\")\n",
    "    print(avg_results)"
   ]
  },
  {
   "cell_type": "code",
   "execution_count": null,
   "metadata": {},
   "outputs": [],
   "source": []
  }
 ],
 "metadata": {
  "kernelspec": {
   "display_name": "Python 3",
   "language": "python",
   "name": "python3"
  },
  "language_info": {
   "codemirror_mode": {
    "name": "ipython",
    "version": 3
   },
   "file_extension": ".py",
   "mimetype": "text/x-python",
   "name": "python",
   "nbconvert_exporter": "python",
   "pygments_lexer": "ipython3",
   "version": "3.12.7"
  }
 },
 "nbformat": 4,
 "nbformat_minor": 2
}
